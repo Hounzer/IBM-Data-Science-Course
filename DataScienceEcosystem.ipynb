{
  "metadata": {
    "kernelspec": {
      "name": "python",
      "display_name": "Python (Pyodide)",
      "language": "python"
    },
    "language_info": {
      "codemirror_mode": {
        "name": "python",
        "version": 3
      },
      "file_extension": ".py",
      "mimetype": "text/x-python",
      "name": "python",
      "nbconvert_exporter": "python",
      "pygments_lexer": "ipython3",
      "version": "3.8"
    }
  },
  "nbformat_minor": 5,
  "nbformat": 4,
  "cells": [
    {
      "id": "cb6e501d-8c9a-499b-bf7f-288b2be31141",
      "cell_type": "markdown",
      "source": "# Data Science EcoSystem",
      "metadata": {}
    },
    {
      "id": "02746387-cc39-4e0e-a7fc-57ae5e9a9978",
      "cell_type": "markdown",
      "source": "In this notebook, we are going to talk about Data Science Tools and Ecosystem in the matter",
      "metadata": {}
    },
    {
      "id": "06977e82-33e2-480e-9ab4-bb678e016d85",
      "cell_type": "markdown",
      "source": "Some of the popular languages that Data Scientists use are:\n\nPython.\n1. R.\n2. SQL.\n3. Java.\n4. Julia.\n5. Scala.\n5. C/C++.\n6. JavaScript.",
      "metadata": {}
    },
    {
      "id": "0688a3d8-e5a0-4b5a-99a7-4063e7ac1f9d",
      "cell_type": "markdown",
      "source": "Some of the commonly used libraries used by Data Scientists include:\n\n1. TensorFlow.\n2. NumPy.\n3. SciPy.\n4. Pandas.\n5. Matplotlib.\n6. Keras.\n7. SciKit-Learn.\n8. PyTorch.\n9. Scrapy.\n10. BeautifulSoup.\n11. LightGBM.\n12. ELI5.\n13. Theano.\n14. NuPIC.\n",
      "metadata": {}
    },
    {
      "id": "3166109e-e71d-4570-9ea0-3613b0c174c5",
      "cell_type": "markdown",
      "source": "##### Create a TABLE with data science tools",
      "metadata": {}
    },
    {
      "id": "052d7a07-82ce-4375-b3aa-7642faf89cee",
      "cell_type": "markdown",
      "source": "|Ide|Programing lenguage|Librery|\n|---|-------------------|-------|\n|RStudio|R|ggplot|\n|Jupyternotebook|Python or more|Numpy|",
      "metadata": {}
    },
    {
      "id": "8f37ebb3-a770-44a0-ad55-9d7c5123a270",
      "cell_type": "markdown",
      "source": "##### This is the markdown to introduce arithmetic expression examples",
      "metadata": {}
    },
    {
      "id": "022749c1-8faf-4110-9d5b-5e0ef73d8b53",
      "cell_type": "code",
      "source": "x = 12\ny = 28\nz = x+y\nprint(z)\na,b = 3,4\nc = a*b\nprint (c)",
      "metadata": {
        "trusted": true
      },
      "outputs": [
        {
          "name": "stdout",
          "output_type": "stream",
          "text": "40\n12\n"
        }
      ],
      "execution_count": 2
    },
    {
      "id": "07f6dfd9-8fd1-4a61-8bef-588cb1cbe95a",
      "cell_type": "code",
      "source": "minutos = int(input(\"Introduce how many minutes: \"))\ndef min_hour(minutos):\n    horas = minutos / 60\n    return horas\nhoras = min_hour(minutos)\nprint(f\"{minutos} are {horas} in hours\")",
      "metadata": {
        "trusted": true
      },
      "outputs": [
        {
          "output_type": "stream",
          "name": "stdin",
          "text": "Introduce how many minutes:  30\n"
        },
        {
          "name": "stdout",
          "output_type": "stream",
          "text": "30 are 0.5 in hours\n"
        }
      ],
      "execution_count": 6
    },
    {
      "id": "b916ed98-9951-42c3-9aa3-e09d368fa0d5",
      "cell_type": "markdown",
      "source": "### This markdown is to list objectives\n#### Objectives of this notebook\n1. to pass the ibm Tools for Data Science course.\n2. To enjoy this course 😊",
      "metadata": {}
    },
    {
      "id": "f804faa5-6337-47a1-9dce-75f82f54a21c",
      "cell_type": "markdown",
      "source": "#### Author Name\n##### Cristóbal Torres Morales",
      "metadata": {}
    },
    {
      "id": "fb6dd6a0-b8ce-483e-8dbe-25920d601771",
      "cell_type": "code",
      "source": "",
      "metadata": {
        "trusted": true
      },
      "outputs": [],
      "execution_count": null
    }
  ]
}